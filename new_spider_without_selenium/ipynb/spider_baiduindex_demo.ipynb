{
 "nbformat": 4,
 "nbformat_minor": 2,
 "metadata": {
  "language_info": {
   "name": "python",
   "codemirror_mode": {
    "name": "ipython",
    "version": 3
   }
  },
  "orig_nbformat": 2,
  "file_extension": ".py",
  "mimetype": "text/x-python",
  "name": "python",
  "npconvert_exporter": "python",
  "pygments_lexer": "ipython3",
  "version": 3
 },
 "cells": [
  {
   "cell_type": "code",
   "execution_count": null,
   "metadata": {},
   "outputs": [],
   "source": [
    "from userlib.spider_baiduindex_get_index import BaiduIndex\n",
    "import pandas as pd\n",
    "\n",
    "#if __name__ == \"__main__\":\n",
    "keywords = ['比特币']\n",
    "baidu_index = BaiduIndex(keywords, '2013-04-01', '2014-04-30')\n",
    "baidu_index_dict = {'keyword': [], 'type': [], 'date': [], 'index': []}\n",
    "for index in baidu_index.get_index():\n",
    "    #print(index)\n",
    "    if index['type'] == 'all':\n",
    "        baidu_index_dict['keyword'].append(index['keyword'])\n",
    "        baidu_index_dict['type'].append(index['type'])\n",
    "        baidu_index_dict['date'].append(index['date'])\n",
    "        baidu_index_dict['index'].append(index['index'])\n",
    "\n",
    "baidu_index_df = pd.DataFrame(baidu_index_dict)\n"
   ]
  }
 ]
}